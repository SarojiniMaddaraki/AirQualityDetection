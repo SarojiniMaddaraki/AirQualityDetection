{
  "nbformat": 4,
  "nbformat_minor": 0,
  "metadata": {
    "colab": {
      "provenance": [],
      "authorship_tag": "ABX9TyOo1hAenuM3WPDSSx2uOO4R",
      "include_colab_link": true
    },
    "kernelspec": {
      "name": "python3",
      "display_name": "Python 3"
    },
    "language_info": {
      "name": "python"
    }
  },
  "cells": [
    {
      "cell_type": "markdown",
      "metadata": {
        "id": "view-in-github",
        "colab_type": "text"
      },
      "source": [
        "<a href=\"https://colab.research.google.com/github/SarojiniMaddaraki/AirQualityDetection/blob/main/WEEK2.ipynb\" target=\"_parent\"><img src=\"https://colab.research.google.com/assets/colab-badge.svg\" alt=\"Open In Colab\"/></a>"
      ]
    },
    {
      "cell_type": "markdown",
      "source": [
        "**1.Loading the cleaned data from week1.**"
      ],
      "metadata": {
        "id": "huO0DdDW7lNA"
      }
    },
    {
      "cell_type": "code",
      "execution_count": 21,
      "metadata": {
        "colab": {
          "base_uri": "https://localhost:8080/",
          "height": 73
        },
        "id": "zlhlkROjwuYL",
        "outputId": "f6f98561-3620-43bb-c049-4703ecca339f"
      },
      "outputs": [
        {
          "output_type": "display_data",
          "data": {
            "text/plain": [
              "<IPython.core.display.HTML object>"
            ],
            "text/html": [
              "\n",
              "     <input type=\"file\" id=\"files-2253097a-1249-4fb6-81ae-c4910f57ec9e\" name=\"files[]\" multiple disabled\n",
              "        style=\"border:none\" />\n",
              "     <output id=\"result-2253097a-1249-4fb6-81ae-c4910f57ec9e\">\n",
              "      Upload widget is only available when the cell has been executed in the\n",
              "      current browser session. Please rerun this cell to enable.\n",
              "      </output>\n",
              "      <script>// Copyright 2017 Google LLC\n",
              "//\n",
              "// Licensed under the Apache License, Version 2.0 (the \"License\");\n",
              "// you may not use this file except in compliance with the License.\n",
              "// You may obtain a copy of the License at\n",
              "//\n",
              "//      http://www.apache.org/licenses/LICENSE-2.0\n",
              "//\n",
              "// Unless required by applicable law or agreed to in writing, software\n",
              "// distributed under the License is distributed on an \"AS IS\" BASIS,\n",
              "// WITHOUT WARRANTIES OR CONDITIONS OF ANY KIND, either express or implied.\n",
              "// See the License for the specific language governing permissions and\n",
              "// limitations under the License.\n",
              "\n",
              "/**\n",
              " * @fileoverview Helpers for google.colab Python module.\n",
              " */\n",
              "(function(scope) {\n",
              "function span(text, styleAttributes = {}) {\n",
              "  const element = document.createElement('span');\n",
              "  element.textContent = text;\n",
              "  for (const key of Object.keys(styleAttributes)) {\n",
              "    element.style[key] = styleAttributes[key];\n",
              "  }\n",
              "  return element;\n",
              "}\n",
              "\n",
              "// Max number of bytes which will be uploaded at a time.\n",
              "const MAX_PAYLOAD_SIZE = 100 * 1024;\n",
              "\n",
              "function _uploadFiles(inputId, outputId) {\n",
              "  const steps = uploadFilesStep(inputId, outputId);\n",
              "  const outputElement = document.getElementById(outputId);\n",
              "  // Cache steps on the outputElement to make it available for the next call\n",
              "  // to uploadFilesContinue from Python.\n",
              "  outputElement.steps = steps;\n",
              "\n",
              "  return _uploadFilesContinue(outputId);\n",
              "}\n",
              "\n",
              "// This is roughly an async generator (not supported in the browser yet),\n",
              "// where there are multiple asynchronous steps and the Python side is going\n",
              "// to poll for completion of each step.\n",
              "// This uses a Promise to block the python side on completion of each step,\n",
              "// then passes the result of the previous step as the input to the next step.\n",
              "function _uploadFilesContinue(outputId) {\n",
              "  const outputElement = document.getElementById(outputId);\n",
              "  const steps = outputElement.steps;\n",
              "\n",
              "  const next = steps.next(outputElement.lastPromiseValue);\n",
              "  return Promise.resolve(next.value.promise).then((value) => {\n",
              "    // Cache the last promise value to make it available to the next\n",
              "    // step of the generator.\n",
              "    outputElement.lastPromiseValue = value;\n",
              "    return next.value.response;\n",
              "  });\n",
              "}\n",
              "\n",
              "/**\n",
              " * Generator function which is called between each async step of the upload\n",
              " * process.\n",
              " * @param {string} inputId Element ID of the input file picker element.\n",
              " * @param {string} outputId Element ID of the output display.\n",
              " * @return {!Iterable<!Object>} Iterable of next steps.\n",
              " */\n",
              "function* uploadFilesStep(inputId, outputId) {\n",
              "  const inputElement = document.getElementById(inputId);\n",
              "  inputElement.disabled = false;\n",
              "\n",
              "  const outputElement = document.getElementById(outputId);\n",
              "  outputElement.innerHTML = '';\n",
              "\n",
              "  const pickedPromise = new Promise((resolve) => {\n",
              "    inputElement.addEventListener('change', (e) => {\n",
              "      resolve(e.target.files);\n",
              "    });\n",
              "  });\n",
              "\n",
              "  const cancel = document.createElement('button');\n",
              "  inputElement.parentElement.appendChild(cancel);\n",
              "  cancel.textContent = 'Cancel upload';\n",
              "  const cancelPromise = new Promise((resolve) => {\n",
              "    cancel.onclick = () => {\n",
              "      resolve(null);\n",
              "    };\n",
              "  });\n",
              "\n",
              "  // Wait for the user to pick the files.\n",
              "  const files = yield {\n",
              "    promise: Promise.race([pickedPromise, cancelPromise]),\n",
              "    response: {\n",
              "      action: 'starting',\n",
              "    }\n",
              "  };\n",
              "\n",
              "  cancel.remove();\n",
              "\n",
              "  // Disable the input element since further picks are not allowed.\n",
              "  inputElement.disabled = true;\n",
              "\n",
              "  if (!files) {\n",
              "    return {\n",
              "      response: {\n",
              "        action: 'complete',\n",
              "      }\n",
              "    };\n",
              "  }\n",
              "\n",
              "  for (const file of files) {\n",
              "    const li = document.createElement('li');\n",
              "    li.append(span(file.name, {fontWeight: 'bold'}));\n",
              "    li.append(span(\n",
              "        `(${file.type || 'n/a'}) - ${file.size} bytes, ` +\n",
              "        `last modified: ${\n",
              "            file.lastModifiedDate ? file.lastModifiedDate.toLocaleDateString() :\n",
              "                                    'n/a'} - `));\n",
              "    const percent = span('0% done');\n",
              "    li.appendChild(percent);\n",
              "\n",
              "    outputElement.appendChild(li);\n",
              "\n",
              "    const fileDataPromise = new Promise((resolve) => {\n",
              "      const reader = new FileReader();\n",
              "      reader.onload = (e) => {\n",
              "        resolve(e.target.result);\n",
              "      };\n",
              "      reader.readAsArrayBuffer(file);\n",
              "    });\n",
              "    // Wait for the data to be ready.\n",
              "    let fileData = yield {\n",
              "      promise: fileDataPromise,\n",
              "      response: {\n",
              "        action: 'continue',\n",
              "      }\n",
              "    };\n",
              "\n",
              "    // Use a chunked sending to avoid message size limits. See b/62115660.\n",
              "    let position = 0;\n",
              "    do {\n",
              "      const length = Math.min(fileData.byteLength - position, MAX_PAYLOAD_SIZE);\n",
              "      const chunk = new Uint8Array(fileData, position, length);\n",
              "      position += length;\n",
              "\n",
              "      const base64 = btoa(String.fromCharCode.apply(null, chunk));\n",
              "      yield {\n",
              "        response: {\n",
              "          action: 'append',\n",
              "          file: file.name,\n",
              "          data: base64,\n",
              "        },\n",
              "      };\n",
              "\n",
              "      let percentDone = fileData.byteLength === 0 ?\n",
              "          100 :\n",
              "          Math.round((position / fileData.byteLength) * 100);\n",
              "      percent.textContent = `${percentDone}% done`;\n",
              "\n",
              "    } while (position < fileData.byteLength);\n",
              "  }\n",
              "\n",
              "  // All done.\n",
              "  yield {\n",
              "    response: {\n",
              "      action: 'complete',\n",
              "    }\n",
              "  };\n",
              "}\n",
              "\n",
              "scope.google = scope.google || {};\n",
              "scope.google.colab = scope.google.colab || {};\n",
              "scope.google.colab._files = {\n",
              "  _uploadFiles,\n",
              "  _uploadFilesContinue,\n",
              "};\n",
              "})(self);\n",
              "</script> "
            ]
          },
          "metadata": {}
        },
        {
          "output_type": "stream",
          "name": "stdout",
          "text": [
            "Saving clean_city_day (1).csv to clean_city_day (1) (1).csv\n"
          ]
        }
      ],
      "source": [
        "from google.colab import files\n",
        "uploaded = files.upload()\n"
      ]
    },
    {
      "cell_type": "markdown",
      "source": [
        "2.Retrieve firsr 5 samples."
      ],
      "metadata": {
        "id": "mztzZOkJ8Tdy"
      }
    },
    {
      "cell_type": "code",
      "source": [
        "import pandas as pd\n",
        "\n",
        "df = pd.read_csv(\"clean_city_day (1).csv\")   # make sure name matches exactly\n",
        "print(df.shape)\n",
        "df.head()\n"
      ],
      "metadata": {
        "colab": {
          "base_uri": "https://localhost:8080/",
          "height": 360
        },
        "id": "4k9mJBxzxol3",
        "outputId": "20519920-de62-4062-f0fa-900d5e3bd24e"
      },
      "execution_count": 22,
      "outputs": [
        {
          "output_type": "stream",
          "name": "stdout",
          "text": [
            "(28000, 33)\n"
          ]
        },
        {
          "output_type": "execute_result",
          "data": {
            "text/plain": [
              "        city        date  pm2_5    pm10     no    no2    nox    nh3     co  \\\n",
              "0  Ahmedabad  2015-01-01  76.38  109.84   0.92  18.22  17.15  17.27   0.92   \n",
              "1  Ahmedabad  2015-01-02  76.38  109.84   0.97  15.69  16.46  17.27   0.97   \n",
              "2  Ahmedabad  2015-01-03  76.38  109.84  17.40  19.30  29.70  17.27  17.40   \n",
              "3  Ahmedabad  2015-01-04  76.38  109.84   1.70  18.48  17.97  17.27   1.70   \n",
              "4  Ahmedabad  2015-01-05  76.38  109.84  22.10  21.42  37.76  17.27  22.10   \n",
              "\n",
              "     so2  ...  pm10_ma3    pm10_ma7    no2_ma3    no2_ma7    so2_ma3  \\\n",
              "0  27.64  ...    119.44  115.941429  18.220000  69.200714  27.640000   \n",
              "1  24.55  ...    119.44  115.941429  16.955000  69.200714  26.095000   \n",
              "2  29.07  ...    119.44  115.941429  17.736667  17.736667  27.086667   \n",
              "3  18.59  ...    119.44  115.941429  17.823333  17.922500  24.070000   \n",
              "4  39.33  ...    119.44  115.941429  19.733333  18.622000  28.996667   \n",
              "\n",
              "     so2_ma7      o3_ma3     o3_ma7     co_ma3     co_ma7  \n",
              "0  59.012857  133.360000  43.063571   0.920000  22.652857  \n",
              "1  59.012857   83.710000  43.063571   0.945000  22.652857  \n",
              "2  27.086667   66.040000  66.040000   6.430000   6.430000  \n",
              "3  24.962500   33.613333  58.550000   6.690000   5.247500  \n",
              "4  27.836000   35.363333  54.702000  13.733333   8.618000  \n",
              "\n",
              "[5 rows x 33 columns]"
            ],
            "text/html": [
              "\n",
              "  <div id=\"df-082276ae-2047-4b8b-b708-ed92601e9af8\" class=\"colab-df-container\">\n",
              "    <div>\n",
              "<style scoped>\n",
              "    .dataframe tbody tr th:only-of-type {\n",
              "        vertical-align: middle;\n",
              "    }\n",
              "\n",
              "    .dataframe tbody tr th {\n",
              "        vertical-align: top;\n",
              "    }\n",
              "\n",
              "    .dataframe thead th {\n",
              "        text-align: right;\n",
              "    }\n",
              "</style>\n",
              "<table border=\"1\" class=\"dataframe\">\n",
              "  <thead>\n",
              "    <tr style=\"text-align: right;\">\n",
              "      <th></th>\n",
              "      <th>city</th>\n",
              "      <th>date</th>\n",
              "      <th>pm2_5</th>\n",
              "      <th>pm10</th>\n",
              "      <th>no</th>\n",
              "      <th>no2</th>\n",
              "      <th>nox</th>\n",
              "      <th>nh3</th>\n",
              "      <th>co</th>\n",
              "      <th>so2</th>\n",
              "      <th>...</th>\n",
              "      <th>pm10_ma3</th>\n",
              "      <th>pm10_ma7</th>\n",
              "      <th>no2_ma3</th>\n",
              "      <th>no2_ma7</th>\n",
              "      <th>so2_ma3</th>\n",
              "      <th>so2_ma7</th>\n",
              "      <th>o3_ma3</th>\n",
              "      <th>o3_ma7</th>\n",
              "      <th>co_ma3</th>\n",
              "      <th>co_ma7</th>\n",
              "    </tr>\n",
              "  </thead>\n",
              "  <tbody>\n",
              "    <tr>\n",
              "      <th>0</th>\n",
              "      <td>Ahmedabad</td>\n",
              "      <td>2015-01-01</td>\n",
              "      <td>76.38</td>\n",
              "      <td>109.84</td>\n",
              "      <td>0.92</td>\n",
              "      <td>18.22</td>\n",
              "      <td>17.15</td>\n",
              "      <td>17.27</td>\n",
              "      <td>0.92</td>\n",
              "      <td>27.64</td>\n",
              "      <td>...</td>\n",
              "      <td>119.44</td>\n",
              "      <td>115.941429</td>\n",
              "      <td>18.220000</td>\n",
              "      <td>69.200714</td>\n",
              "      <td>27.640000</td>\n",
              "      <td>59.012857</td>\n",
              "      <td>133.360000</td>\n",
              "      <td>43.063571</td>\n",
              "      <td>0.920000</td>\n",
              "      <td>22.652857</td>\n",
              "    </tr>\n",
              "    <tr>\n",
              "      <th>1</th>\n",
              "      <td>Ahmedabad</td>\n",
              "      <td>2015-01-02</td>\n",
              "      <td>76.38</td>\n",
              "      <td>109.84</td>\n",
              "      <td>0.97</td>\n",
              "      <td>15.69</td>\n",
              "      <td>16.46</td>\n",
              "      <td>17.27</td>\n",
              "      <td>0.97</td>\n",
              "      <td>24.55</td>\n",
              "      <td>...</td>\n",
              "      <td>119.44</td>\n",
              "      <td>115.941429</td>\n",
              "      <td>16.955000</td>\n",
              "      <td>69.200714</td>\n",
              "      <td>26.095000</td>\n",
              "      <td>59.012857</td>\n",
              "      <td>83.710000</td>\n",
              "      <td>43.063571</td>\n",
              "      <td>0.945000</td>\n",
              "      <td>22.652857</td>\n",
              "    </tr>\n",
              "    <tr>\n",
              "      <th>2</th>\n",
              "      <td>Ahmedabad</td>\n",
              "      <td>2015-01-03</td>\n",
              "      <td>76.38</td>\n",
              "      <td>109.84</td>\n",
              "      <td>17.40</td>\n",
              "      <td>19.30</td>\n",
              "      <td>29.70</td>\n",
              "      <td>17.27</td>\n",
              "      <td>17.40</td>\n",
              "      <td>29.07</td>\n",
              "      <td>...</td>\n",
              "      <td>119.44</td>\n",
              "      <td>115.941429</td>\n",
              "      <td>17.736667</td>\n",
              "      <td>17.736667</td>\n",
              "      <td>27.086667</td>\n",
              "      <td>27.086667</td>\n",
              "      <td>66.040000</td>\n",
              "      <td>66.040000</td>\n",
              "      <td>6.430000</td>\n",
              "      <td>6.430000</td>\n",
              "    </tr>\n",
              "    <tr>\n",
              "      <th>3</th>\n",
              "      <td>Ahmedabad</td>\n",
              "      <td>2015-01-04</td>\n",
              "      <td>76.38</td>\n",
              "      <td>109.84</td>\n",
              "      <td>1.70</td>\n",
              "      <td>18.48</td>\n",
              "      <td>17.97</td>\n",
              "      <td>17.27</td>\n",
              "      <td>1.70</td>\n",
              "      <td>18.59</td>\n",
              "      <td>...</td>\n",
              "      <td>119.44</td>\n",
              "      <td>115.941429</td>\n",
              "      <td>17.823333</td>\n",
              "      <td>17.922500</td>\n",
              "      <td>24.070000</td>\n",
              "      <td>24.962500</td>\n",
              "      <td>33.613333</td>\n",
              "      <td>58.550000</td>\n",
              "      <td>6.690000</td>\n",
              "      <td>5.247500</td>\n",
              "    </tr>\n",
              "    <tr>\n",
              "      <th>4</th>\n",
              "      <td>Ahmedabad</td>\n",
              "      <td>2015-01-05</td>\n",
              "      <td>76.38</td>\n",
              "      <td>109.84</td>\n",
              "      <td>22.10</td>\n",
              "      <td>21.42</td>\n",
              "      <td>37.76</td>\n",
              "      <td>17.27</td>\n",
              "      <td>22.10</td>\n",
              "      <td>39.33</td>\n",
              "      <td>...</td>\n",
              "      <td>119.44</td>\n",
              "      <td>115.941429</td>\n",
              "      <td>19.733333</td>\n",
              "      <td>18.622000</td>\n",
              "      <td>28.996667</td>\n",
              "      <td>27.836000</td>\n",
              "      <td>35.363333</td>\n",
              "      <td>54.702000</td>\n",
              "      <td>13.733333</td>\n",
              "      <td>8.618000</td>\n",
              "    </tr>\n",
              "  </tbody>\n",
              "</table>\n",
              "<p>5 rows × 33 columns</p>\n",
              "</div>\n",
              "    <div class=\"colab-df-buttons\">\n",
              "\n",
              "  <div class=\"colab-df-container\">\n",
              "    <button class=\"colab-df-convert\" onclick=\"convertToInteractive('df-082276ae-2047-4b8b-b708-ed92601e9af8')\"\n",
              "            title=\"Convert this dataframe to an interactive table.\"\n",
              "            style=\"display:none;\">\n",
              "\n",
              "  <svg xmlns=\"http://www.w3.org/2000/svg\" height=\"24px\" viewBox=\"0 -960 960 960\">\n",
              "    <path d=\"M120-120v-720h720v720H120Zm60-500h600v-160H180v160Zm220 220h160v-160H400v160Zm0 220h160v-160H400v160ZM180-400h160v-160H180v160Zm440 0h160v-160H620v160ZM180-180h160v-160H180v160Zm440 0h160v-160H620v160Z\"/>\n",
              "  </svg>\n",
              "    </button>\n",
              "\n",
              "  <style>\n",
              "    .colab-df-container {\n",
              "      display:flex;\n",
              "      gap: 12px;\n",
              "    }\n",
              "\n",
              "    .colab-df-convert {\n",
              "      background-color: #E8F0FE;\n",
              "      border: none;\n",
              "      border-radius: 50%;\n",
              "      cursor: pointer;\n",
              "      display: none;\n",
              "      fill: #1967D2;\n",
              "      height: 32px;\n",
              "      padding: 0 0 0 0;\n",
              "      width: 32px;\n",
              "    }\n",
              "\n",
              "    .colab-df-convert:hover {\n",
              "      background-color: #E2EBFA;\n",
              "      box-shadow: 0px 1px 2px rgba(60, 64, 67, 0.3), 0px 1px 3px 1px rgba(60, 64, 67, 0.15);\n",
              "      fill: #174EA6;\n",
              "    }\n",
              "\n",
              "    .colab-df-buttons div {\n",
              "      margin-bottom: 4px;\n",
              "    }\n",
              "\n",
              "    [theme=dark] .colab-df-convert {\n",
              "      background-color: #3B4455;\n",
              "      fill: #D2E3FC;\n",
              "    }\n",
              "\n",
              "    [theme=dark] .colab-df-convert:hover {\n",
              "      background-color: #434B5C;\n",
              "      box-shadow: 0px 1px 3px 1px rgba(0, 0, 0, 0.15);\n",
              "      filter: drop-shadow(0px 1px 2px rgba(0, 0, 0, 0.3));\n",
              "      fill: #FFFFFF;\n",
              "    }\n",
              "  </style>\n",
              "\n",
              "    <script>\n",
              "      const buttonEl =\n",
              "        document.querySelector('#df-082276ae-2047-4b8b-b708-ed92601e9af8 button.colab-df-convert');\n",
              "      buttonEl.style.display =\n",
              "        google.colab.kernel.accessAllowed ? 'block' : 'none';\n",
              "\n",
              "      async function convertToInteractive(key) {\n",
              "        const element = document.querySelector('#df-082276ae-2047-4b8b-b708-ed92601e9af8');\n",
              "        const dataTable =\n",
              "          await google.colab.kernel.invokeFunction('convertToInteractive',\n",
              "                                                    [key], {});\n",
              "        if (!dataTable) return;\n",
              "\n",
              "        const docLinkHtml = 'Like what you see? Visit the ' +\n",
              "          '<a target=\"_blank\" href=https://colab.research.google.com/notebooks/data_table.ipynb>data table notebook</a>'\n",
              "          + ' to learn more about interactive tables.';\n",
              "        element.innerHTML = '';\n",
              "        dataTable['output_type'] = 'display_data';\n",
              "        await google.colab.output.renderOutput(dataTable, element);\n",
              "        const docLink = document.createElement('div');\n",
              "        docLink.innerHTML = docLinkHtml;\n",
              "        element.appendChild(docLink);\n",
              "      }\n",
              "    </script>\n",
              "  </div>\n",
              "\n",
              "\n",
              "    <div id=\"df-ba5a6a1b-25e8-4d57-b1ad-06683a45778d\">\n",
              "      <button class=\"colab-df-quickchart\" onclick=\"quickchart('df-ba5a6a1b-25e8-4d57-b1ad-06683a45778d')\"\n",
              "                title=\"Suggest charts\"\n",
              "                style=\"display:none;\">\n",
              "\n",
              "<svg xmlns=\"http://www.w3.org/2000/svg\" height=\"24px\"viewBox=\"0 0 24 24\"\n",
              "     width=\"24px\">\n",
              "    <g>\n",
              "        <path d=\"M19 3H5c-1.1 0-2 .9-2 2v14c0 1.1.9 2 2 2h14c1.1 0 2-.9 2-2V5c0-1.1-.9-2-2-2zM9 17H7v-7h2v7zm4 0h-2V7h2v10zm4 0h-2v-4h2v4z\"/>\n",
              "    </g>\n",
              "</svg>\n",
              "      </button>\n",
              "\n",
              "<style>\n",
              "  .colab-df-quickchart {\n",
              "      --bg-color: #E8F0FE;\n",
              "      --fill-color: #1967D2;\n",
              "      --hover-bg-color: #E2EBFA;\n",
              "      --hover-fill-color: #174EA6;\n",
              "      --disabled-fill-color: #AAA;\n",
              "      --disabled-bg-color: #DDD;\n",
              "  }\n",
              "\n",
              "  [theme=dark] .colab-df-quickchart {\n",
              "      --bg-color: #3B4455;\n",
              "      --fill-color: #D2E3FC;\n",
              "      --hover-bg-color: #434B5C;\n",
              "      --hover-fill-color: #FFFFFF;\n",
              "      --disabled-bg-color: #3B4455;\n",
              "      --disabled-fill-color: #666;\n",
              "  }\n",
              "\n",
              "  .colab-df-quickchart {\n",
              "    background-color: var(--bg-color);\n",
              "    border: none;\n",
              "    border-radius: 50%;\n",
              "    cursor: pointer;\n",
              "    display: none;\n",
              "    fill: var(--fill-color);\n",
              "    height: 32px;\n",
              "    padding: 0;\n",
              "    width: 32px;\n",
              "  }\n",
              "\n",
              "  .colab-df-quickchart:hover {\n",
              "    background-color: var(--hover-bg-color);\n",
              "    box-shadow: 0 1px 2px rgba(60, 64, 67, 0.3), 0 1px 3px 1px rgba(60, 64, 67, 0.15);\n",
              "    fill: var(--button-hover-fill-color);\n",
              "  }\n",
              "\n",
              "  .colab-df-quickchart-complete:disabled,\n",
              "  .colab-df-quickchart-complete:disabled:hover {\n",
              "    background-color: var(--disabled-bg-color);\n",
              "    fill: var(--disabled-fill-color);\n",
              "    box-shadow: none;\n",
              "  }\n",
              "\n",
              "  .colab-df-spinner {\n",
              "    border: 2px solid var(--fill-color);\n",
              "    border-color: transparent;\n",
              "    border-bottom-color: var(--fill-color);\n",
              "    animation:\n",
              "      spin 1s steps(1) infinite;\n",
              "  }\n",
              "\n",
              "  @keyframes spin {\n",
              "    0% {\n",
              "      border-color: transparent;\n",
              "      border-bottom-color: var(--fill-color);\n",
              "      border-left-color: var(--fill-color);\n",
              "    }\n",
              "    20% {\n",
              "      border-color: transparent;\n",
              "      border-left-color: var(--fill-color);\n",
              "      border-top-color: var(--fill-color);\n",
              "    }\n",
              "    30% {\n",
              "      border-color: transparent;\n",
              "      border-left-color: var(--fill-color);\n",
              "      border-top-color: var(--fill-color);\n",
              "      border-right-color: var(--fill-color);\n",
              "    }\n",
              "    40% {\n",
              "      border-color: transparent;\n",
              "      border-right-color: var(--fill-color);\n",
              "      border-top-color: var(--fill-color);\n",
              "    }\n",
              "    60% {\n",
              "      border-color: transparent;\n",
              "      border-right-color: var(--fill-color);\n",
              "    }\n",
              "    80% {\n",
              "      border-color: transparent;\n",
              "      border-right-color: var(--fill-color);\n",
              "      border-bottom-color: var(--fill-color);\n",
              "    }\n",
              "    90% {\n",
              "      border-color: transparent;\n",
              "      border-bottom-color: var(--fill-color);\n",
              "    }\n",
              "  }\n",
              "</style>\n",
              "\n",
              "      <script>\n",
              "        async function quickchart(key) {\n",
              "          const quickchartButtonEl =\n",
              "            document.querySelector('#' + key + ' button');\n",
              "          quickchartButtonEl.disabled = true;  // To prevent multiple clicks.\n",
              "          quickchartButtonEl.classList.add('colab-df-spinner');\n",
              "          try {\n",
              "            const charts = await google.colab.kernel.invokeFunction(\n",
              "                'suggestCharts', [key], {});\n",
              "          } catch (error) {\n",
              "            console.error('Error during call to suggestCharts:', error);\n",
              "          }\n",
              "          quickchartButtonEl.classList.remove('colab-df-spinner');\n",
              "          quickchartButtonEl.classList.add('colab-df-quickchart-complete');\n",
              "        }\n",
              "        (() => {\n",
              "          let quickchartButtonEl =\n",
              "            document.querySelector('#df-ba5a6a1b-25e8-4d57-b1ad-06683a45778d button');\n",
              "          quickchartButtonEl.style.display =\n",
              "            google.colab.kernel.accessAllowed ? 'block' : 'none';\n",
              "        })();\n",
              "      </script>\n",
              "    </div>\n",
              "\n",
              "    </div>\n",
              "  </div>\n"
            ],
            "application/vnd.google.colaboratory.intrinsic+json": {
              "type": "dataframe",
              "variable_name": "df"
            }
          },
          "metadata": {},
          "execution_count": 22
        }
      ]
    },
    {
      "cell_type": "markdown",
      "source": [
        "3.Sorting for better."
      ],
      "metadata": {
        "id": "kHdl8sH28efD"
      }
    },
    {
      "cell_type": "code",
      "source": [
        "# Check columns & a few nulls\n",
        "print(df.columns.tolist())\n",
        "df.isna().sum().sort_values(ascending=False).head(10)\n"
      ],
      "metadata": {
        "colab": {
          "base_uri": "https://localhost:8080/",
          "height": 436
        },
        "id": "AZYgwXpfyCdV",
        "outputId": "c9b6f10f-e588-4562-8229-7e7ff94278e1"
      },
      "execution_count": 23,
      "outputs": [
        {
          "output_type": "stream",
          "name": "stdout",
          "text": [
            "['city', 'date', 'pm2_5', 'pm10', 'no', 'no2', 'nox', 'nh3', 'co', 'so2', 'o3', 'benzene', 'toluene', 'xylene', 'aqi', 'aqi_bucket', 'year', 'month', 'day', 'day_of_week', 'is_weekend', 'pm2_5_ma3', 'pm2_5_ma7', 'pm10_ma3', 'pm10_ma7', 'no2_ma3', 'no2_ma7', 'so2_ma3', 'so2_ma7', 'o3_ma3', 'o3_ma7', 'co_ma3', 'co_ma7']\n"
          ]
        },
        {
          "output_type": "execute_result",
          "data": {
            "text/plain": [
              "aqi_bucket    3150\n",
              "city             0\n",
              "date             0\n",
              "pm10             0\n",
              "pm2_5            0\n",
              "no2              0\n",
              "nox              0\n",
              "nh3              0\n",
              "no               0\n",
              "co               0\n",
              "dtype: int64"
            ],
            "text/html": [
              "<div>\n",
              "<style scoped>\n",
              "    .dataframe tbody tr th:only-of-type {\n",
              "        vertical-align: middle;\n",
              "    }\n",
              "\n",
              "    .dataframe tbody tr th {\n",
              "        vertical-align: top;\n",
              "    }\n",
              "\n",
              "    .dataframe thead th {\n",
              "        text-align: right;\n",
              "    }\n",
              "</style>\n",
              "<table border=\"1\" class=\"dataframe\">\n",
              "  <thead>\n",
              "    <tr style=\"text-align: right;\">\n",
              "      <th></th>\n",
              "      <th>0</th>\n",
              "    </tr>\n",
              "  </thead>\n",
              "  <tbody>\n",
              "    <tr>\n",
              "      <th>aqi_bucket</th>\n",
              "      <td>3150</td>\n",
              "    </tr>\n",
              "    <tr>\n",
              "      <th>city</th>\n",
              "      <td>0</td>\n",
              "    </tr>\n",
              "    <tr>\n",
              "      <th>date</th>\n",
              "      <td>0</td>\n",
              "    </tr>\n",
              "    <tr>\n",
              "      <th>pm10</th>\n",
              "      <td>0</td>\n",
              "    </tr>\n",
              "    <tr>\n",
              "      <th>pm2_5</th>\n",
              "      <td>0</td>\n",
              "    </tr>\n",
              "    <tr>\n",
              "      <th>no2</th>\n",
              "      <td>0</td>\n",
              "    </tr>\n",
              "    <tr>\n",
              "      <th>nox</th>\n",
              "      <td>0</td>\n",
              "    </tr>\n",
              "    <tr>\n",
              "      <th>nh3</th>\n",
              "      <td>0</td>\n",
              "    </tr>\n",
              "    <tr>\n",
              "      <th>no</th>\n",
              "      <td>0</td>\n",
              "    </tr>\n",
              "    <tr>\n",
              "      <th>co</th>\n",
              "      <td>0</td>\n",
              "    </tr>\n",
              "  </tbody>\n",
              "</table>\n",
              "</div><br><label><b>dtype:</b> int64</label>"
            ]
          },
          "metadata": {},
          "execution_count": 23
        }
      ]
    },
    {
      "cell_type": "markdown",
      "source": [
        "PART A — Regression:1. Predict numeric aqi."
      ],
      "metadata": {
        "id": "jAQM6leS9KqV"
      }
    },
    {
      "cell_type": "code",
      "source": [
        "drop_cols = ['city','date','aqi','aqi_bucket']  # targets / non-numeric IDs\n",
        "X = df.drop(columns=[c for c in drop_cols if c in df.columns], errors='ignore')\n",
        "y = df['aqi'].astype(float)\n",
        "\n",
        "# If any rows have missing y, drop them\n",
        "keep = y.notna()\n",
        "X, y = X.loc[keep].copy(), y.loc[keep].copy()\n",
        "\n",
        "X.shape, y.shape\n"
      ],
      "metadata": {
        "colab": {
          "base_uri": "https://localhost:8080/"
        },
        "id": "64WeQj6F0Yfq",
        "outputId": "f0315e90-2643-47b4-c18d-98400133126c"
      },
      "execution_count": 24,
      "outputs": [
        {
          "output_type": "execute_result",
          "data": {
            "text/plain": [
              "((28000, 29), (28000,))"
            ]
          },
          "metadata": {},
          "execution_count": 24
        }
      ]
    },
    {
      "cell_type": "markdown",
      "source": [
        "2. Time-aware train/test split (avoid leakage)"
      ],
      "metadata": {
        "id": "SY1VsrqR9YTF"
      }
    },
    {
      "cell_type": "code",
      "source": [
        "df_sorted = df.loc[keep, ['date']].copy()\n",
        "df_sorted['date'] = pd.to_datetime(df_sorted['date'], errors='coerce')\n",
        "\n",
        "order = df_sorted['date'].sort_values().index\n",
        "cut = int(len(order) * 0.8)\n",
        "train_idx, test_idx = order[:cut], order[cut:]\n",
        "\n",
        "X_train, X_test = X.loc[train_idx], X.loc[test_idx]\n",
        "y_train, y_test = y.loc[train_idx], y.loc[test_idx]\n",
        "\n",
        "X_train.shape, X_test.shape\n"
      ],
      "metadata": {
        "colab": {
          "base_uri": "https://localhost:8080/"
        },
        "id": "9SfvyiuS0hEN",
        "outputId": "c6daceec-97be-4ee2-ef29-f6bdf12b38d8"
      },
      "execution_count": 25,
      "outputs": [
        {
          "output_type": "execute_result",
          "data": {
            "text/plain": [
              "((22400, 29), (5600, 29))"
            ]
          },
          "metadata": {},
          "execution_count": 25
        }
      ]
    },
    {
      "cell_type": "markdown",
      "source": [
        "3. Baseline model (Linear Regression)"
      ],
      "metadata": {
        "id": "4Cg08s379gQR"
      }
    },
    {
      "cell_type": "code",
      "source": [
        "from sklearn.linear_model import LinearRegression\n",
        "from sklearn.metrics import r2_score, mean_absolute_error, mean_squared_error\n",
        "import numpy as np\n",
        "\n",
        "lin = LinearRegression()\n",
        "lin.fit(X_train, y_train)\n",
        "pred_lin = lin.predict(X_test)\n",
        "\n",
        "r2_lin  = r2_score(y_test, pred_lin)\n",
        "mae_lin = mean_absolute_error(y_test, pred_lin)\n",
        "rmse_lin= np.sqrt(((y_test - pred_lin)**2).mean())\n",
        "\n",
        "print(\"Linear Regression →  R²:\", round(r2_lin,3), \" MAE:\", round(mae_lin,2), \" RMSE:\", round(rmse_lin,2))\n"
      ],
      "metadata": {
        "colab": {
          "base_uri": "https://localhost:8080/"
        },
        "id": "Xz7WTAgT5bNn",
        "outputId": "ca6d3f91-e6d9-4a13-bca5-d3b4210e5d53"
      },
      "execution_count": 26,
      "outputs": [
        {
          "output_type": "stream",
          "name": "stdout",
          "text": [
            "Linear Regression →  R²: 0.859  MAE: 21.18  RMSE: 34.87\n"
          ]
        }
      ]
    },
    {
      "cell_type": "markdown",
      "source": [
        "4. Stronger model (RandomForest Regressor)"
      ],
      "metadata": {
        "id": "havv5XVY9rCt"
      }
    },
    {
      "cell_type": "code",
      "source": [
        "from sklearn.ensemble import RandomForestRegressor\n",
        "from sklearn.metrics import r2_score, mean_absolute_error, mean_squared_error\n",
        "import numpy as np\n",
        "\n",
        "rf = RandomForestRegressor(\n",
        "    n_estimators=300,\n",
        "    max_depth=None,\n",
        "    min_samples_leaf=2,\n",
        "    random_state=42,\n",
        "    n_jobs=-1\n",
        ")\n",
        "rf.fit(X_train, y_train)\n",
        "pred_rf = rf.predict(X_test)\n",
        "\n",
        "r2_rf  = r2_score(y_test, pred_rf)\n",
        "mae_rf = mean_absolute_error(y_test, pred_rf)\n",
        "rmse_rf= np.sqrt(((y_test - pred_rf)**2).mean())\n",
        "\n",
        "print(\"RandomForest → R²:\", round(r2_rf,3), \" MAE:\", round(mae_rf,2), \" RMSE:\", round(rmse_rf,2))\n"
      ],
      "metadata": {
        "colab": {
          "base_uri": "https://localhost:8080/"
        },
        "id": "1ITQACSm0nQC",
        "outputId": "acaf83db-c787-4a85-b711-794a79023c7a"
      },
      "execution_count": 27,
      "outputs": [
        {
          "output_type": "stream",
          "name": "stdout",
          "text": [
            "RandomForest → R²: 0.919  MAE: 14.84  RMSE: 26.41\n"
          ]
        }
      ]
    },
    {
      "cell_type": "markdown",
      "source": [
        "5. Compare & choose (and save predictions)"
      ],
      "metadata": {
        "id": "TTxZvFB790uO"
      }
    },
    {
      "cell_type": "code",
      "source": [
        "import pandas as pd\n",
        "\n",
        "print({\n",
        "    \"Linear_R2\": r2_lin, \"Linear_MAE\": mae_lin, \"Linear_RMSE\": rmse_lin,\n",
        "    \"RF_R2\": r2_rf, \"RF_MAE\": mae_rf, \"RF_RMSE\": rmse_rf\n",
        "})\n",
        "\n",
        "# Save predictions for mentor review\n",
        "out = pd.DataFrame({\n",
        "    \"date\": df.loc[test_idx, 'date'].values,\n",
        "    \"city\": df.loc[test_idx, 'city'].values,\n",
        "    \"aqi_true\": y_test.values,\n",
        "    \"aqi_pred_linear\": pred_lin,\n",
        "    \"aqi_pred_rf\": pred_rf\n",
        "})\n",
        "out.to_csv(\"week2_aqi_predictions.csv\", index=False)\n",
        "print(\"Saved: week2_aqi_predictions.csv\")\n"
      ],
      "metadata": {
        "colab": {
          "base_uri": "https://localhost:8080/"
        },
        "id": "eWS-GEu05j5z",
        "outputId": "12572fd2-cf32-41da-8390-0deb523f3722"
      },
      "execution_count": 28,
      "outputs": [
        {
          "output_type": "stream",
          "name": "stdout",
          "text": [
            "{'Linear_R2': 0.8594189943369206, 'Linear_MAE': 21.177192574374995, 'Linear_RMSE': np.float64(34.86768526001394), 'RF_R2': 0.9193716194330126, 'RF_MAE': 14.842238257869775, 'RF_RMSE': np.float64(26.40606954334688)}\n",
            "Saved: week2_aqi_predictions.csv\n"
          ]
        }
      ]
    },
    {
      "cell_type": "markdown",
      "source": [
        "6. Show top features for RF"
      ],
      "metadata": {
        "id": "hcxjcrEM9__6"
      }
    },
    {
      "cell_type": "code",
      "source": [
        "import numpy as np\n",
        "\n",
        "feat_names = X.columns\n",
        "imp = rf.feature_importances_\n",
        "top = np.argsort(imp)[::-1][:10]\n",
        "[(feat_names[i], round(float(imp[i]),4)) for i in top]\n"
      ],
      "metadata": {
        "colab": {
          "base_uri": "https://localhost:8080/"
        },
        "id": "c-oGC-pb5yvx",
        "outputId": "cf0df78a-8249-47a4-852f-08e8ec68c6e9"
      },
      "execution_count": 29,
      "outputs": [
        {
          "output_type": "execute_result",
          "data": {
            "text/plain": [
              "[('pm2_5_ma3', 0.2524),\n",
              " ('pm2_5', 0.2521),\n",
              " ('co', 0.1795),\n",
              " ('co_ma3', 0.164),\n",
              " ('no', 0.0307),\n",
              " ('co_ma7', 0.028),\n",
              " ('pm10', 0.0183),\n",
              " ('pm10_ma3', 0.0109),\n",
              " ('o3', 0.0061),\n",
              " ('nox', 0.0053)]"
            ]
          },
          "metadata": {},
          "execution_count": 29
        }
      ]
    },
    {
      "cell_type": "markdown",
      "source": [
        "7.Visualization of predictions.\n",
        "\n",
        "\n",
        "\n"
      ],
      "metadata": {
        "id": "KtsgTQ7G7Ry0"
      }
    },
    {
      "cell_type": "code",
      "source": [
        "import matplotlib.pyplot as plt\n",
        "\n",
        "# Actual vs Predicted\n",
        "plt.figure(figsize=(8,6))\n",
        "plt.scatter(y_test, pred_rf, alpha=0.5, color='blue')\n",
        "plt.xlabel(\"Actual AQI\")\n",
        "plt.ylabel(\"Predicted AQI\")\n",
        "plt.title(\"Actual vs Predicted AQI (RandomForest)\")\n",
        "plt.show()\n",
        "\n",
        "# Feature Importance\n",
        "importances = rf.feature_importances_\n",
        "feat_names = X.columns\n",
        "plt.figure(figsize=(10,6))\n",
        "plt.barh(feat_names, importances)\n",
        "plt.xlabel(\"Feature Importance\")\n",
        "plt.ylabel(\"Pollutant / Feature\")\n",
        "plt.title(\"Which pollutants affect AQI most?\")\n",
        "plt.show()\n"
      ],
      "metadata": {
        "colab": {
          "base_uri": "https://localhost:8080/",
          "height": 1000
        },
        "id": "w7uBE9JF6rz8",
        "outputId": "b11b8d57-335a-4549-e8ab-46b35fb684b0"
      },
      "execution_count": 30,
      "outputs": [
        {
          "output_type": "display_data",
          "data": {
            "text/plain": [
              "<Figure size 800x600 with 1 Axes>"
            ],
            "image/png": "[encoded data removed]"
          },
          "metadata": {}
        },
        {
          "output_type": "display_data",
          "data": {
            "text/plain": [
              "<Figure size 1000x600 with 1 Axes>"
            ],
            "image/png": "[encoded data removed]"
          },
          "metadata": {}
        }
      ]
    },
    {
      "cell_type": "markdown",
      "source": [
        "# **Optional : Classification using aqi_bucket."
      ],
      "metadata": {
        "id": "5d8Pkm4c558b"
      }
    },
    {
      "cell_type": "code",
      "source": [
        "dfc = df.dropna(subset=['aqi_bucket']).copy()\n",
        "Xc = dfc.drop(columns=['city','date','aqi','aqi_bucket'], errors='ignore')\n",
        "yc = dfc['aqi_bucket'].astype(str).str.strip().str.title()\n",
        "\n",
        "dfc_dates = pd.to_datetime(dfc['date'], errors='coerce')\n",
        "order_c = dfc_dates.sort_values().index\n",
        "cut_c = int(len(order_c)*0.8)\n",
        "train_c, test_c = order_c[:cut_c], order_c[cut_c:]\n",
        "\n",
        "Xc_train, Xc_test = Xc.loc[train_c], Xc.loc[test_c]\n",
        "yc_train, yc_test = yc.loc[train_c], yc.loc[test_c]\n",
        "\n",
        "Xc_train.shape, Xc_test.shape, yc_train.value_counts().to_dict()\n"
      ],
      "metadata": {
        "colab": {
          "base_uri": "https://localhost:8080/"
        },
        "id": "gaeBko8755kP",
        "outputId": "2d6494c3-59f0-468b-ee45-1774a1faea0d"
      },
      "execution_count": 17,
      "outputs": [
        {
          "output_type": "execute_result",
          "data": {
            "text/plain": [
              "((19880, 29),\n",
              " (4970, 29),\n",
              " {'Moderate': 7145,\n",
              "  'Satisfactory': 6132,\n",
              "  'Poor': 2400,\n",
              "  'Very Poor': 2113,\n",
              "  'Severe': 1280,\n",
              "  'Good': 810})"
            ]
          },
          "metadata": {},
          "execution_count": 17
        }
      ]
    },
    {
      "cell_type": "markdown",
      "source": [
        "1.Train & evaluate classifier"
      ],
      "metadata": {
        "id": "yIGal5Pk6bf6"
      }
    },
    {
      "cell_type": "code",
      "source": [
        "from sklearn.ensemble import RandomForestClassifier\n",
        "from sklearn.metrics import accuracy_score, f1_score, classification_report, confusion_matrix\n",
        "\n",
        "clf = RandomForestClassifier(\n",
        "    n_estimators=400,\n",
        "    min_samples_leaf=2,\n",
        "    class_weight=\"balanced\",\n",
        "    random_state=42,\n",
        "    n_jobs=-1\n",
        ")\n",
        "clf.fit(Xc_train, yc_train)\n",
        "yc_pred = clf.predict(Xc_test)\n",
        "\n",
        "print(\"Accuracy:\", round(accuracy_score(yc_test, yc_pred),3))\n",
        "print(\"Macro F1:\", round(f1_score(yc_test, yc_pred, average='macro'),3))\n",
        "print(classification_report(yc_test, yc_pred))\n"
      ],
      "metadata": {
        "colab": {
          "base_uri": "https://localhost:8080/"
        },
        "id": "3HyyvTIu6Pzr",
        "outputId": "6771d7d9-945c-4377-eba3-2403a778d9ba"
      },
      "execution_count": 18,
      "outputs": [
        {
          "output_type": "stream",
          "name": "stdout",
          "text": [
            "Accuracy: 0.836\n",
            "Macro F1: 0.819\n",
            "              precision    recall  f1-score   support\n",
            "\n",
            "        Good       0.86      0.72      0.78       531\n",
            "    Moderate       0.86      0.82      0.84      1684\n",
            "        Poor       0.75      0.76      0.75       381\n",
            "Satisfactory       0.83      0.90      0.86      2092\n",
            "      Severe       0.81      0.86      0.83        58\n",
            "   Very Poor       0.87      0.82      0.85       224\n",
            "\n",
            "    accuracy                           0.84      4970\n",
            "   macro avg       0.83      0.81      0.82      4970\n",
            "weighted avg       0.84      0.84      0.84      4970\n",
            "\n"
          ]
        }
      ]
    }
  ]
}